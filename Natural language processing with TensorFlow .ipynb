{
 "cells": [
  {
   "cell_type": "markdown",
   "id": "28f7b358",
   "metadata": {},
   "source": [
    "# 1. Sentiment in text"
   ]
  },
  {
   "cell_type": "markdown",
   "id": "015d88a9",
   "metadata": {},
   "source": [
    "- The first thing when dealing with natural language, the same as when dealing with all other data is to turn it into __numbers__.\n",
    "- How do you understand the meaning of a word with numbers? For example, you could take the number of the alphabet each letter occurs and use that string of numbers to understand it.\n",
    "    - Listen → 12, 9, 19, 20, 5, 14\n",
    "    - Silent → 19, 9, 12, 5, 14, 20\n",
    "        - This approach doesn't work that well. These two words have opposite meanings but contain the same numbers.\n",
    "- What about a word based encodings? For example:\n",
    "    - I love my dog → 1, 2, 3, 4\n",
    "    - I love my cat → 1, 2, 3, 5\n",
    "        - This approach is starting to get better since the first 3 words have the same numbers."
   ]
  },
  {
   "cell_type": "markdown",
   "id": "9a8709c9",
   "metadata": {},
   "source": [
    "🔑 Turning words into numbers is known as Tokenizing, Keras includes this functionality in the Tokenizer class."
   ]
  },
  {
   "cell_type": "code",
   "execution_count": 26,
   "id": "e08694cc",
   "metadata": {},
   "outputs": [
    {
     "name": "stdout",
     "output_type": "stream",
     "text": [
      "Running tokenizer over the text:\n",
      "[[4, 1, 2, 3], [1, 2, 3]]\n",
      "\n",
      "Tokenized words:\n",
      "{'love': 1, 'my': 2, 'dog': 3, 'you': 4, 'i': 5}\n",
      "\n",
      "Output of the unseen text:\n",
      "[[4, 1, 2, 3]]\n",
      "Unknown texts are eliminated\n",
      "\n",
      "Output of the unseen text after including out of vocabulary param:\n",
      "[[1, 2, 3, 4, 1, 1]]\n",
      "word_index after including oov: {'<OOV>': 1, 'love': 2, 'my': 3, 'dog': 4, 'you': 5, 'i': 6}\n"
     ]
    }
   ],
   "source": [
    "#example to creae tokens for words \n",
    "import tensorflow as tf \n",
    "from tensorflow import keras \n",
    "from keras.preprocessing.text import Tokenizer\n",
    "\n",
    "list_1 = {'i love my dog',\n",
    "         'You love my Dog!'}\n",
    "#order of tokens - based on the occurances of word in entire object \n",
    "\n",
    "#Note - to convert words into text use Tokenizer\n",
    "tokenizer = Tokenizer(num_words=5) #instatiate \n",
    "tokenizer.fit_on_texts(list_1)     #fit tokenizer on texts \n",
    "#now to create a sequence of tokens with respect to texts from list_1\n",
    "sequence = tokenizer.texts_to_sequences(list_1)\n",
    "print(\"Running tokenizer over the text:\")\n",
    "print(sequence)\n",
    "\n",
    "#if you want to see the text and their index in tokenizer\n",
    "word_index = tokenizer.word_index\n",
    "print('\\nTokenized words:')\n",
    "print(word_index)\n",
    "\n",
    "#you have actually create a small text detector- if you want to detect the text in some other object you can do so my using the previously trained tokenizer\n",
    "test_1 = ['You love my Dog and cat']\n",
    "\n",
    "test_sequence = tokenizer.texts_to_sequences(test_1)\n",
    "print(\"\\nOutput of the unseen text:\")\n",
    "print(test_sequence)\n",
    "print(\"Unknown texts are eliminated\")\n",
    "\n",
    "#now if you want to have the vlaues that were not found in your tokenized dictionary included - initiate oov_val \n",
    "tokenizer = Tokenizer(num_words=5, oov_token= '<OOV>') #instatiate \n",
    "tokenizer.fit_on_texts(list_1)     #fit tokenizer on texts \n",
    "sequence = tokenizer.texts_to_sequences(list_1)\n",
    "\n",
    "test_sequence = tokenizer.texts_to_sequences(test_1)\n",
    "print(\"\\nOutput of the unseen text after including out of vocabulary param:\")\n",
    "print(test_sequence)\n",
    "word_index_new = tokenizer.word_index\n",
    "print(\"word_index after including oov:\",word_index_new )\n"
   ]
  },
  {
   "cell_type": "markdown",
   "id": "bea69a45",
   "metadata": {},
   "source": [
    "##### Now you know how to encode word into tokens, you still can't pass the data directly to NN __(because if the sizes are not compatible there will be a size mismatch)__\n",
    "\n",
    "- 🔑 **Padding** is used to make sure all sequences are the same length. That way when passed to a neural network, the matrices it accepts as input are all a uniform size.\n",
    "- Example padding code:"
   ]
  },
  {
   "cell_type": "code",
   "execution_count": 27,
   "id": "d6df6a7d",
   "metadata": {},
   "outputs": [
    {
     "name": "stdout",
     "output_type": "stream",
     "text": [
      "this is how the padding two will affect the line of 4 words: [[0 0 1 2 3 4]\n",
      " [0 0 1 2 3 4]]\n"
     ]
    }
   ],
   "source": [
    "from tensorflow.keras.preprocessing.sequence import pad_sequences\n",
    "\n",
    "padded = pad_sequences(sequence, maxlen=6, padding='pre', truncating='pre' )\n",
    "print(\"this is how the padding two will affect the line of 4 words:\", padded)"
   ]
  },
  {
   "cell_type": "markdown",
   "id": "2a06ab7f",
   "metadata": {},
   "source": [
    "# 2. Word embeddings "
   ]
  },
  {
   "cell_type": "markdown",
   "id": "7dfa3e69",
   "metadata": {},
   "source": [
    "- Word embeddings is a way of turning your words into numbers which is better than simply labelling words in your vocabulary from 1 to 10,000 (if you've got 10,000 different words)"
   ]
  },
  {
   "cell_type": "code",
   "execution_count": 28,
   "id": "3b06eb4f",
   "metadata": {},
   "outputs": [
    {
     "name": "stdout",
     "output_type": "stream",
     "text": [
      "Requirement already satisfied: tensorflow_datasets in /Applications/anaconda3/lib/python3.8/site-packages (4.4.0)\n",
      "Requirement already satisfied: absl-py in /Applications/anaconda3/lib/python3.8/site-packages (from tensorflow_datasets) (0.12.0)\n",
      "Requirement already satisfied: termcolor in /Applications/anaconda3/lib/python3.8/site-packages (from tensorflow_datasets) (1.1.0)\n",
      "Requirement already satisfied: requests>=2.19.0 in /Applications/anaconda3/lib/python3.8/site-packages (from tensorflow_datasets) (2.25.1)\n",
      "Requirement already satisfied: tqdm in /Applications/anaconda3/lib/python3.8/site-packages (from tensorflow_datasets) (4.59.0)\n",
      "Requirement already satisfied: importlib-resources in /Applications/anaconda3/lib/python3.8/site-packages (from tensorflow_datasets) (5.3.0)\n",
      "Requirement already satisfied: tensorflow-metadata in /Applications/anaconda3/lib/python3.8/site-packages (from tensorflow_datasets) (1.2.0)\n",
      "Requirement already satisfied: numpy in /Applications/anaconda3/lib/python3.8/site-packages (from tensorflow_datasets) (1.19.5)\n",
      "Requirement already satisfied: promise in /Applications/anaconda3/lib/python3.8/site-packages (from tensorflow_datasets) (2.3)\n",
      "Requirement already satisfied: dill in /Applications/anaconda3/lib/python3.8/site-packages (from tensorflow_datasets) (0.3.4)\n",
      "Requirement already satisfied: attrs>=18.1.0 in /Applications/anaconda3/lib/python3.8/site-packages (from tensorflow_datasets) (20.3.0)\n",
      "Requirement already satisfied: protobuf>=3.12.2 in /Applications/anaconda3/lib/python3.8/site-packages (from tensorflow_datasets) (3.18.1)\n",
      "Requirement already satisfied: future in /Applications/anaconda3/lib/python3.8/site-packages (from tensorflow_datasets) (0.18.2)\n",
      "Requirement already satisfied: six in /Applications/anaconda3/lib/python3.8/site-packages (from tensorflow_datasets) (1.15.0)\n",
      "Requirement already satisfied: idna<3,>=2.5 in /Applications/anaconda3/lib/python3.8/site-packages (from requests>=2.19.0->tensorflow_datasets) (2.10)\n",
      "Requirement already satisfied: urllib3<1.27,>=1.21.1 in /Applications/anaconda3/lib/python3.8/site-packages (from requests>=2.19.0->tensorflow_datasets) (1.26.4)\n",
      "Requirement already satisfied: certifi>=2017.4.17 in /Applications/anaconda3/lib/python3.8/site-packages (from requests>=2.19.0->tensorflow_datasets) (2020.12.5)\n",
      "Requirement already satisfied: chardet<5,>=3.0.2 in /Applications/anaconda3/lib/python3.8/site-packages (from requests>=2.19.0->tensorflow_datasets) (4.0.0)\n",
      "Requirement already satisfied: zipp>=3.1.0 in /Applications/anaconda3/lib/python3.8/site-packages (from importlib-resources->tensorflow_datasets) (3.4.1)\n",
      "Requirement already satisfied: googleapis-common-protos<2,>=1.52.0 in /Applications/anaconda3/lib/python3.8/site-packages (from tensorflow-metadata->tensorflow_datasets) (1.53.0)\n",
      "Note: you may need to restart the kernel to use updated packages.\n"
     ]
    }
   ],
   "source": [
    "pip install tensorflow_datasets"
   ]
  },
  {
   "cell_type": "markdown",
   "id": "38804849",
   "metadata": {},
   "source": [
    "# 3.  let's start building NN for IMDB_reviews dataset "
   ]
  },
  {
   "cell_type": "code",
   "execution_count": 30,
   "id": "5bbf0247",
   "metadata": {},
   "outputs": [],
   "source": [
    "import tensorflow_datasets as tfds "
   ]
  },
  {
   "cell_type": "code",
   "execution_count": 31,
   "id": "f379e753",
   "metadata": {},
   "outputs": [],
   "source": [
    "imdb, info = tfds.load(\"imdb_reviews\", with_info= True, as_supervised= True)"
   ]
  },
  {
   "cell_type": "code",
   "execution_count": 42,
   "id": "67e384d7",
   "metadata": {},
   "outputs": [],
   "source": [
    "train = imdb['train'] \n",
    "test = imdb['test']"
   ]
  },
  {
   "cell_type": "code",
   "execution_count": 35,
   "id": "19f21dd9",
   "metadata": {},
   "outputs": [],
   "source": [
    "train_sentences= []\n",
    "train_labels = []\n",
    "test_sentences = []\n",
    "test_labels = []"
   ]
  },
  {
   "cell_type": "code",
   "execution_count": 44,
   "id": "a92a112f",
   "metadata": {},
   "outputs": [],
   "source": [
    "import numpy as np\n",
    "\n",
    "for s,l in train:\n",
    "    train_sentences.append(s.numpy().decode('utf-8'))\n",
    "    train_labels.append(l.numpy())\n",
    "    \n",
    "for s,l in test:\n",
    "    test_sentences.append(s.numpy().decode('utf-8'))\n",
    "    test_labels.append(l.numpy()) \n",
    "\n",
    "train_labels_final = np.array(train_labels)\n",
    "test_labels_final = np.array(test_labels)\n",
    "\n",
    "#now you have crerated a data fro training and testing "
   ]
  },
  {
   "cell_type": "code",
   "execution_count": 50,
   "id": "2b2edf6b",
   "metadata": {},
   "outputs": [
    {
     "name": "stdout",
     "output_type": "stream",
     "text": [
      "This was an absolutely terrible movie. Don't be lured in by Christopher Walken or Michael Ironside. Both are great actors, but this must simply be their worst role in history. Even their great acting could not redeem this movie's ridiculous storyline. This movie is an early nineties US propaganda piece. The most pathetic scenes were those when the Columbian rebels were making their cases for revolutions. Maria Conchita Alonso appeared phony, and her pseudo-love affair with Walken was nothing but a pathetic emotional plug in a movie that was devoid of any real meaning. I am disappointed that there are movies like this, ruining actor's like Christopher Walken's good name. I could barely sit through it.\n",
      "75000\n",
      "0\n",
      "50000\n"
     ]
    }
   ],
   "source": [
    "print(train_sentences[0]) #this is one of the sentences \n",
    "print(len(train_sentences)) #there are around 75000 entries for training \n",
    "print(train_labels[0]) # this shows positive or negative review \n",
    "print(len(test_sentences)) #there are around 50000 entries for testing "
   ]
  },
  {
   "cell_type": "code",
   "execution_count": 51,
   "id": "506575fd",
   "metadata": {},
   "outputs": [],
   "source": [
    "# let's now instantiate a tokenizer and convert the words into numbers\n",
    "from tensorflow.keras.preprocessing.text import Tokenizer\n",
    "from tensorflow.keras.preprocessing.sequence import pad_sequences\n",
    "\n",
    "#let's tune some hyperparameters \n",
    "vocab_size = 10000\n",
    "embedding_dim = 16\n",
    "max_length = 120\n",
    "trunc_type='post'\n",
    "oov_tok = \"<OOV>\"\n",
    "\n",
    "#input data - train_sequence\n",
    "\n",
    "tokenizer = Tokenizer(num_words= vocab_size)\n",
    "tokenizer.fit_on_texts(train_sentences)\n",
    "word_index = tokenizer.word_index\n",
    "\n",
    "# convert text to sequences \n",
    "sequences = tokenizer.texts_to_sequences(train_sentences)\n",
    "#introducing padding for same length inputs for NN \n",
    "padded = pad_sequences(sequences, maxlen = max_length, padding = 'pre', truncating= trunc_type)\n",
    "\n",
    "\n",
    "#moving the toeknizer on the testing set \n",
    "test_sequences = tokenizer.texts_to_sequences(test_sentences)\n",
    "test_padding = pad_sequences(test_sequences, maxlen = max_length, padding = 'pre', truncating= trunc_type )"
   ]
  },
  {
   "cell_type": "code",
   "execution_count": 52,
   "id": "439ae8c3",
   "metadata": {},
   "outputs": [
    {
     "name": "stdout",
     "output_type": "stream",
     "text": [
      "75000 75000\n",
      "50000 50000\n"
     ]
    }
   ],
   "source": [
    "#checking the sizes before feeding it to model \n",
    "print(len(padded), len(train_labels_final))\n",
    "print(len(test_padding), len(test_labels_final))"
   ]
  },
  {
   "cell_type": "code",
   "execution_count": 56,
   "id": "0ba2aa3e",
   "metadata": {},
   "outputs": [
    {
     "name": "stdout",
     "output_type": "stream",
     "text": [
      "Model: \"sequential\"\n",
      "_________________________________________________________________\n",
      "Layer (type)                 Output Shape              Param #   \n",
      "=================================================================\n",
      "embedding (Embedding)        (None, 120, 16)           160000    \n",
      "_________________________________________________________________\n",
      "global_average_pooling1d (Gl (None, 16)                0         \n",
      "_________________________________________________________________\n",
      "dense (Dense)                (None, 6)                 102       \n",
      "_________________________________________________________________\n",
      "dense_1 (Dense)              (None, 1)                 7         \n",
      "=================================================================\n",
      "Total params: 160,109\n",
      "Trainable params: 160,109\n",
      "Non-trainable params: 0\n",
      "_________________________________________________________________\n",
      "Epoch 1/30\n",
      "2344/2344 - 4s - loss: 0.3753 - acc: 0.8421 - val_loss: 0.3743 - val_acc: 0.8352\n",
      "Epoch 2/30\n",
      "2344/2344 - 3s - loss: 0.1999 - acc: 0.9261 - val_loss: 0.4455 - val_acc: 0.8250\n",
      "Epoch 3/30\n",
      "2344/2344 - 3s - loss: 0.1450 - acc: 0.9506 - val_loss: 0.5594 - val_acc: 0.8102\n",
      "Epoch 4/30\n",
      "2344/2344 - 3s - loss: 0.1096 - acc: 0.9645 - val_loss: 0.6879 - val_acc: 0.7986\n",
      "Epoch 5/30\n",
      "2344/2344 - 4s - loss: 0.0814 - acc: 0.9765 - val_loss: 0.8341 - val_acc: 0.7943\n",
      "Epoch 6/30\n",
      "2344/2344 - 4s - loss: 0.0615 - acc: 0.9839 - val_loss: 1.0342 - val_acc: 0.7895\n",
      "Epoch 7/30\n",
      "2344/2344 - 3s - loss: 0.0460 - acc: 0.9889 - val_loss: 1.1857 - val_acc: 0.7846\n",
      "Epoch 8/30\n",
      "2344/2344 - 3s - loss: 0.0348 - acc: 0.9918 - val_loss: 1.3525 - val_acc: 0.7828\n",
      "Epoch 9/30\n",
      "2344/2344 - 3s - loss: 0.0272 - acc: 0.9939 - val_loss: 1.5698 - val_acc: 0.7786\n",
      "Epoch 10/30\n",
      "2344/2344 - 3s - loss: 0.0211 - acc: 0.9946 - val_loss: 1.7437 - val_acc: 0.7758\n",
      "Epoch 11/30\n",
      "2344/2344 - 3s - loss: 0.0161 - acc: 0.9960 - val_loss: 1.9554 - val_acc: 0.7730\n",
      "Epoch 12/30\n",
      "2344/2344 - 3s - loss: 0.0132 - acc: 0.9966 - val_loss: 2.1284 - val_acc: 0.7747\n",
      "Epoch 13/30\n",
      "2344/2344 - 3s - loss: 0.0095 - acc: 0.9975 - val_loss: 2.3095 - val_acc: 0.7702\n",
      "Epoch 14/30\n",
      "2344/2344 - 3s - loss: 0.0088 - acc: 0.9975 - val_loss: 2.5115 - val_acc: 0.7703\n",
      "Epoch 15/30\n",
      "2344/2344 - 3s - loss: 0.0081 - acc: 0.9972 - val_loss: 2.7845 - val_acc: 0.7705\n",
      "Epoch 16/30\n",
      "2344/2344 - 3s - loss: 0.0063 - acc: 0.9980 - val_loss: 2.8340 - val_acc: 0.7687\n",
      "Epoch 17/30\n",
      "2344/2344 - 3s - loss: 0.0052 - acc: 0.9984 - val_loss: 3.0209 - val_acc: 0.7706\n",
      "Epoch 18/30\n",
      "2344/2344 - 3s - loss: 0.0069 - acc: 0.9977 - val_loss: 3.1863 - val_acc: 0.7675\n",
      "Epoch 19/30\n",
      "2344/2344 - 3s - loss: 0.0032 - acc: 0.9990 - val_loss: 3.3677 - val_acc: 0.7687\n",
      "Epoch 20/30\n",
      "2344/2344 - 4s - loss: 0.0051 - acc: 0.9983 - val_loss: 3.4246 - val_acc: 0.7672\n",
      "Epoch 21/30\n",
      "2344/2344 - 3s - loss: 0.0045 - acc: 0.9985 - val_loss: 3.4875 - val_acc: 0.7663\n",
      "Epoch 22/30\n",
      "2344/2344 - 3s - loss: 0.0049 - acc: 0.9983 - val_loss: 3.5948 - val_acc: 0.7661\n",
      "Epoch 23/30\n",
      "2344/2344 - 3s - loss: 0.0028 - acc: 0.9992 - val_loss: 3.6794 - val_acc: 0.7675\n",
      "Epoch 24/30\n",
      "2344/2344 - 3s - loss: 0.0057 - acc: 0.9980 - val_loss: 3.7232 - val_acc: 0.7677\n",
      "Epoch 25/30\n",
      "2344/2344 - 3s - loss: 0.0031 - acc: 0.9990 - val_loss: 3.8546 - val_acc: 0.7698\n",
      "Epoch 26/30\n",
      "2344/2344 - 3s - loss: 0.0025 - acc: 0.9994 - val_loss: 3.9771 - val_acc: 0.7660\n",
      "Epoch 27/30\n",
      "2344/2344 - 3s - loss: 0.0043 - acc: 0.9985 - val_loss: 4.0717 - val_acc: 0.7664\n",
      "Epoch 28/30\n",
      "2344/2344 - 3s - loss: 0.0041 - acc: 0.9988 - val_loss: 4.1292 - val_acc: 0.7672\n",
      "Epoch 29/30\n",
      "2344/2344 - 4s - loss: 0.0028 - acc: 0.9991 - val_loss: 3.9849 - val_acc: 0.7623\n",
      "Epoch 30/30\n",
      "2344/2344 - 3s - loss: 0.0043 - acc: 0.9985 - val_loss: 4.2657 - val_acc: 0.7683\n"
     ]
    }
   ],
   "source": [
    "#building a model architecture \n",
    "model = tf.keras.Sequential([\n",
    "    tf.keras.layers.Embedding(vocab_size, embedding_dim, input_length=max_length),\n",
    "    #tf.keras.layers.Flatten() -- I can use this as well but in case of texts we normally make use of GlobalAveragePooling1D(), only advantage is that the computations might be a little fasters becasue of less number of paramters involved \n",
    "    tf.keras.layers.GlobalAveragePooling1D(),\n",
    "    tf.keras.layers.Dense(6, activation = 'relu'),\n",
    "    tf.keras.layers.Dense(1, activation ='sigmoid')\n",
    "])\n",
    "\n",
    "#print summary of model \n",
    "model.summary()\n",
    "\n",
    "#compile your model since this is a binary classifcation hence we use binary_crossentropy to measure_loss \n",
    "model.compile(optimizer = 'adam',\n",
    "             loss = 'binary_crossentropy',\n",
    "              metrics = ['acc'])\n",
    "\n",
    "#fitting and validating the model\n",
    "history = model.fit(\n",
    "                    padded, \n",
    "                    train_labels_final, \n",
    "                    epochs = 30,\n",
    "                    validation_data = (test_padding, test_labels_final), \n",
    "                    verbose = 2\n",
    ")"
   ]
  },
  {
   "cell_type": "code",
   "execution_count": 57,
   "id": "bff41cb6",
   "metadata": {},
   "outputs": [
    {
     "data": {
      "image/png": "[encoded data removed]",
      "text/plain": [
       "<Figure size 432x288 with 1 Axes>"
      ]
     },
     "metadata": {
      "needs_background": "light"
     },
     "output_type": "display_data"
    },
    {
     "data": {
      "image/png": "[encoded data removed]",
      "text/plain": [
       "<Figure size 432x288 with 1 Axes>"
      ]
     },
     "metadata": {
      "needs_background": "light"
     },
     "output_type": "display_data"
    }
   ],
   "source": [
    "#printing training and testing accuracy and loss over the epochs \n",
    "import matplotlib.pyplot as plt \n",
    "\n",
    "train_acc= history.history['acc']\n",
    "test_acc = history.history['val_acc']\n",
    "train_loss = history.history['loss']\n",
    "test_loss= history.history['val_loss']\n",
    "\n",
    "epochs = range(len(train_acc))\n",
    "\n",
    "plt.plot(epochs , train_acc, label = \"training acc\")\n",
    "plt.plot(epochs , test_acc, label = \"training acc\")\n",
    "plt.title(\"plot of training vs testing accuracy\")\n",
    "plt.figure()\n",
    "\n",
    "plt.plot(epochs , train_loss, label = \"training loss\")\n",
    "plt.plot(epochs , test_loss, label = \"training loss\")\n",
    "plt.title(\"plot of training vs testing loss\")\n",
    "plt.show()"
   ]
  },
  {
   "cell_type": "markdown",
   "id": "76e0f705",
   "metadata": {},
   "source": [
    "- This kind of model will push towards 100% accuracy on the training set which is a strong indication of overfitting.\n",
    "- 🔑 When you're working with text data, you might find the validation loss increases as training goes on.\n",
    "    - Think of this as the confidence of the models prediction on a particular sample.\n",
    "    - One of the ways you can monitor it is to explore the differences in metrics as you tweak hyperparameters, such as embedding size, vocab size, etc."
   ]
  },
  {
   "cell_type": "code",
   "execution_count": 59,
   "id": "c66defda",
   "metadata": {},
   "outputs": [],
   "source": [
    "#now as you know words are stored as a key and their value is stored as numbers \n",
    "# we will reverse that by creating a function \n",
    "reverse_word_index = dict([(value, key) for (key,value) in word_index.items()])\n",
    "\n",
    "def decode_function(text):\n",
    "    return \" \".join( [reverse_word_index.get(i,\"?\") for i in text])\n",
    "\n",
    "# join strings with space \n",
    "#(Return the value for key if key is in the dictionary, else default)\n",
    "# for padded 0 the value are comng as default"
   ]
  },
  {
   "cell_type": "code",
   "execution_count": 62,
   "id": "f650ad40",
   "metadata": {},
   "outputs": [
    {
     "name": "stdout",
     "output_type": "stream",
     "text": [
      "10000\n"
     ]
    }
   ],
   "source": [
    "#getting the weights from the embedded layers \n",
    "\n",
    "e = model.layers[0]\n",
    "weights = e.get_weights()[0]\n",
    "print(len(weights))"
   ]
  },
  {
   "cell_type": "code",
   "execution_count": 67,
   "id": "fe9ad3ee",
   "metadata": {},
   "outputs": [],
   "source": [
    "import os "
   ]
  },
  {
   "cell_type": "code",
   "execution_count": 68,
   "id": "a8c99c4b",
   "metadata": {},
   "outputs": [],
   "source": [
    "os.chdir(\"/Users/avinashtripathi/Downloads\")"
   ]
  },
  {
   "cell_type": "code",
   "execution_count": 75,
   "id": "43ff5f34",
   "metadata": {},
   "outputs": [
    {
     "name": "stdout",
     "output_type": "stream",
     "text": [
      "[-0.00903783 -0.03351708 -0.09210564  0.27004948  0.01863869 -0.05287478\n",
      "  0.04094364  0.06962577  0.00030145 -0.01108484 -0.05415261 -0.01984923\n",
      "  0.00094745 -0.00609331  0.0380161   0.02291058]\n"
     ]
    }
   ],
   "source": [
    "print(embeddings)"
   ]
  },
  {
   "cell_type": "code",
   "execution_count": 72,
   "id": "2b920dd3",
   "metadata": {},
   "outputs": [],
   "source": [
    "#creating vector and meta files\n",
    "import io\n",
    "\n",
    "out_v = io.open('vecs.tsv', 'w', encoding ='utf-8')\n",
    "out_m = io.open('meta.tsv', 'w', encoding= 'utf-8')\n",
    "\n",
    "for word_num in range(1, vocab_size):\n",
    "    word = reverse_word_index[word_num]\n",
    "    embeddings = weights[word_num]\n",
    "    \n",
    "    out_m.write(word + \"\\n\")\n",
    "    out_v.write('\\t'.join([str(x) for x in embeddings]) + \"\\n\")\n",
    "\n",
    "out_v.close()\n",
    "out_m.close()\n",
    "\n",
    "#this will output the vector and metadeta file and you can upload the filesto plot the words based \n",
    "#on their embedding weights https://projector.tensorflow.org/"
   ]
  },
  {
   "cell_type": "markdown",
   "id": "fc73faeb",
   "metadata": {},
   "source": [
    "http://localhost:8888/view/Desktop/embedding1.png - final result "
   ]
  },
  {
   "cell_type": "markdown",
   "id": "9abe5130",
   "metadata": {},
   "source": [
    "# 4. Performing embedding on sarcasm.json \n",
    "-  https://drive.google.com/uc?id=1xRU3xY5-tkiPGvlz5xBJ18_pHWSRzI4v"
   ]
  },
  {
   "cell_type": "code",
   "execution_count": 76,
   "id": "e664445c",
   "metadata": {},
   "outputs": [],
   "source": [
    "#sarcasm.json \n",
    "import json"
   ]
  },
  {
   "cell_type": "code",
   "execution_count": 77,
   "id": "c8e8ae44",
   "metadata": {},
   "outputs": [],
   "source": [
    "with open('sarcasm.json', 'r') as f:\n",
    "    datastore = json.load(f)"
   ]
  },
  {
   "cell_type": "code",
   "execution_count": 78,
   "id": "d2d796d7",
   "metadata": {},
   "outputs": [
    {
     "data": {
      "text/plain": [
       "26709"
      ]
     },
     "execution_count": 78,
     "metadata": {},
     "output_type": "execute_result"
    }
   ],
   "source": [
    "len(datastore)"
   ]
  },
  {
   "cell_type": "code",
   "execution_count": 79,
   "id": "765babad",
   "metadata": {},
   "outputs": [],
   "source": [
    "#creating a list of training and testing data \n",
    "sentences = []\n",
    "labels = []\n",
    "urls = []\n",
    "\n",
    "\n",
    "for file in datastore:\n",
    "    sentences.append(file['headline']) \n",
    "    labels.append(file['is_sarcastic']) \n",
    "    urls.append(file['article_link'])"
   ]
  },
  {
   "cell_type": "code",
   "execution_count": 80,
   "id": "9f6a8625",
   "metadata": {},
   "outputs": [
    {
     "name": "stdout",
     "output_type": "stream",
     "text": [
      "don't rely on your fitness tracker to lose weight\n"
     ]
    }
   ],
   "source": [
    "#setting up the hyperparameter \n",
    "vocab_size = 10000\n",
    "embedding_dim = 16\n",
    "max_length = 100\n",
    "trunc_type='post'\n",
    "padding_type='post'\n",
    "oov_tok = \"<OOV>\"\n",
    "training_size = 20000\n",
    "\n",
    "training_sentences =sentences[:training_size]\n",
    "testing_sentences =sentences[training_size:]\n",
    "print(testing_sentences[1])\n",
    "training_labels =labels[:training_size]\n",
    "testing_labels = labels[training_size:]\n"
   ]
  },
  {
   "cell_type": "code",
   "execution_count": 81,
   "id": "9900a014",
   "metadata": {},
   "outputs": [
    {
     "name": "stdout",
     "output_type": "stream",
     "text": [
      "100\n",
      "[   4 6840 3096 3097   23    2  161    1  390 2842    6  251    9  889\n",
      "    0    0    0    0    0    0    0    0    0    0    0    0    0    0\n",
      "    0    0    0    0    0    0    0    0    0    0    0    0    0    0\n",
      "    0    0    0    0    0    0    0    0    0    0    0    0    0    0\n",
      "    0    0    0    0    0    0    0    0    0    0    0    0    0    0\n",
      "    0    0    0    0    0    0    0    0    0    0    0    0    0    0\n",
      "    0    0    0    0    0    0    0    0    0    0    0    0    0    0\n",
      "    0    0]\n"
     ]
    }
   ],
   "source": [
    "#creating tokens for the training and testing samples \n",
    "import tensorflow as tf \n",
    "from tensorflow.keras.preprocessing.text import Tokenizer\n",
    "from tensorflow.keras.preprocessing.sequence import pad_sequences\n",
    "\n",
    "tokenizer = Tokenizer(num_words=vocab_size, oov_token=oov_tok) #first 10000 most occured words will be tokenized \n",
    "tokenizer.fit_on_texts(training_sentences)\n",
    "word_index = tokenizer.word_index\n",
    "\n",
    "sequences = tokenizer.texts_to_sequences(training_sentences)\n",
    "padded = pad_sequences(sequences ,maxlen= max_length, truncating = trunc_type, padding= padding_type)\n",
    "print(len(padded[1]))\n",
    "print(padded[1])\n",
    "\n",
    "testing_sequences = tokenizer.texts_to_sequences(testing_sentences)\n",
    "testing_padded = pad_sequences(testing_sequences, maxlen= max_length, truncating = trunc_type, padding= padding_type)"
   ]
  },
  {
   "cell_type": "code",
   "execution_count": 82,
   "id": "20c89f72",
   "metadata": {},
   "outputs": [],
   "source": [
    "import numpy as np\n",
    "training_padded = np.array(padded)\n",
    "training_labels = np.array(training_labels)\n",
    "testing_padded = np.array(testing_padded)\n",
    "testing_labels = np.array(testing_labels)"
   ]
  },
  {
   "cell_type": "code",
   "execution_count": 84,
   "id": "9edd156c",
   "metadata": {},
   "outputs": [],
   "source": [
    "#model architecture \n",
    "\n",
    "model = tf.keras.Sequential([\n",
    "    tf.keras.layers.Embedding(vocab_size, embedding_dim, input_length=max_length ),\n",
    "    tf.keras.layers.GlobalAveragePooling1D(),\n",
    "    tf.keras.layers.Dense(24,activation = 'relu'),\n",
    "    tf.keras.layers.Dense(1,activation='sigmoid')\n",
    "])"
   ]
  },
  {
   "cell_type": "code",
   "execution_count": 85,
   "id": "9a1bf9cc",
   "metadata": {},
   "outputs": [
    {
     "name": "stdout",
     "output_type": "stream",
     "text": [
      "Model: \"sequential_1\"\n",
      "_________________________________________________________________\n",
      "Layer (type)                 Output Shape              Param #   \n",
      "=================================================================\n",
      "embedding_1 (Embedding)      (None, 100, 16)           160000    \n",
      "_________________________________________________________________\n",
      "global_average_pooling1d_1 ( (None, 16)                0         \n",
      "_________________________________________________________________\n",
      "dense_2 (Dense)              (None, 24)                408       \n",
      "_________________________________________________________________\n",
      "dense_3 (Dense)              (None, 1)                 25        \n",
      "=================================================================\n",
      "Total params: 160,433\n",
      "Trainable params: 160,433\n",
      "Non-trainable params: 0\n",
      "_________________________________________________________________\n"
     ]
    }
   ],
   "source": [
    "model.summary()"
   ]
  },
  {
   "cell_type": "code",
   "execution_count": 86,
   "id": "be0ef677",
   "metadata": {},
   "outputs": [],
   "source": [
    "model.compile(loss= 'binary_crossentropy' ,\n",
    "             optimizer= 'adam', \n",
    "             metrics = ['acc'])"
   ]
  },
  {
   "cell_type": "code",
   "execution_count": 87,
   "id": "f84a4b14",
   "metadata": {},
   "outputs": [
    {
     "name": "stdout",
     "output_type": "stream",
     "text": [
      "Epoch 1/30\n",
      "625/625 - 2s - loss: 0.6659 - acc: 0.5845 - val_loss: 0.5859 - val_acc: 0.8074\n",
      "Epoch 2/30\n",
      "625/625 - 1s - loss: 0.4299 - acc: 0.8313 - val_loss: 0.3851 - val_acc: 0.8353\n",
      "Epoch 3/30\n",
      "625/625 - 1s - loss: 0.3073 - acc: 0.8791 - val_loss: 0.3522 - val_acc: 0.8532\n",
      "Epoch 4/30\n",
      "625/625 - 1s - loss: 0.2576 - acc: 0.8996 - val_loss: 0.3522 - val_acc: 0.8505\n",
      "Epoch 5/30\n",
      "625/625 - 1s - loss: 0.2223 - acc: 0.9151 - val_loss: 0.3455 - val_acc: 0.8563\n",
      "Epoch 6/30\n",
      "625/625 - 1s - loss: 0.1943 - acc: 0.9254 - val_loss: 0.3530 - val_acc: 0.8535\n",
      "Epoch 7/30\n",
      "625/625 - 1s - loss: 0.1731 - acc: 0.9355 - val_loss: 0.3727 - val_acc: 0.8509\n",
      "Epoch 8/30\n",
      "625/625 - 1s - loss: 0.1539 - acc: 0.9440 - val_loss: 0.3991 - val_acc: 0.8429\n",
      "Epoch 9/30\n",
      "625/625 - 1s - loss: 0.1386 - acc: 0.9498 - val_loss: 0.4070 - val_acc: 0.8477\n",
      "Epoch 10/30\n",
      "625/625 - 1s - loss: 0.1259 - acc: 0.9559 - val_loss: 0.4187 - val_acc: 0.8515\n",
      "Epoch 11/30\n",
      "625/625 - 1s - loss: 0.1145 - acc: 0.9596 - val_loss: 0.4537 - val_acc: 0.8416\n",
      "Epoch 12/30\n",
      "625/625 - 1s - loss: 0.1040 - acc: 0.9652 - val_loss: 0.4670 - val_acc: 0.8427\n",
      "Epoch 13/30\n",
      "625/625 - 1s - loss: 0.0952 - acc: 0.9660 - val_loss: 0.5224 - val_acc: 0.8356\n",
      "Epoch 14/30\n",
      "625/625 - 1s - loss: 0.0884 - acc: 0.9696 - val_loss: 0.5233 - val_acc: 0.8402\n",
      "Epoch 15/30\n",
      "625/625 - 1s - loss: 0.0789 - acc: 0.9747 - val_loss: 0.5848 - val_acc: 0.8240\n",
      "Epoch 16/30\n",
      "625/625 - 1s - loss: 0.0741 - acc: 0.9758 - val_loss: 0.5813 - val_acc: 0.8357\n",
      "Epoch 17/30\n",
      "625/625 - 1s - loss: 0.0675 - acc: 0.9782 - val_loss: 0.6315 - val_acc: 0.8317\n",
      "Epoch 18/30\n",
      "625/625 - 1s - loss: 0.0622 - acc: 0.9801 - val_loss: 0.6702 - val_acc: 0.8293\n",
      "Epoch 19/30\n",
      "625/625 - 1s - loss: 0.0574 - acc: 0.9822 - val_loss: 0.6830 - val_acc: 0.8289\n",
      "Epoch 20/30\n",
      "625/625 - 1s - loss: 0.0531 - acc: 0.9837 - val_loss: 0.7396 - val_acc: 0.8247\n",
      "Epoch 21/30\n",
      "625/625 - 1s - loss: 0.0476 - acc: 0.9854 - val_loss: 0.7518 - val_acc: 0.8244\n",
      "Epoch 22/30\n",
      "625/625 - 1s - loss: 0.0434 - acc: 0.9878 - val_loss: 0.8198 - val_acc: 0.8229\n",
      "Epoch 23/30\n",
      "625/625 - 1s - loss: 0.0416 - acc: 0.9875 - val_loss: 0.9012 - val_acc: 0.8183\n",
      "Epoch 24/30\n",
      "625/625 - 1s - loss: 0.0400 - acc: 0.9883 - val_loss: 0.8807 - val_acc: 0.8186\n",
      "Epoch 25/30\n",
      "625/625 - 1s - loss: 0.0370 - acc: 0.9883 - val_loss: 0.8953 - val_acc: 0.8192\n",
      "Epoch 26/30\n",
      "625/625 - 1s - loss: 0.0316 - acc: 0.9908 - val_loss: 0.9343 - val_acc: 0.8161\n",
      "Epoch 27/30\n",
      "625/625 - 1s - loss: 0.0285 - acc: 0.9918 - val_loss: 0.9661 - val_acc: 0.8144\n",
      "Epoch 28/30\n",
      "625/625 - 1s - loss: 0.0268 - acc: 0.9922 - val_loss: 1.0126 - val_acc: 0.8159\n",
      "Epoch 29/30\n",
      "625/625 - 1s - loss: 0.0276 - acc: 0.9916 - val_loss: 1.0602 - val_acc: 0.8122\n",
      "Epoch 30/30\n",
      "625/625 - 1s - loss: 0.0225 - acc: 0.9941 - val_loss: 1.1021 - val_acc: 0.8147\n"
     ]
    }
   ],
   "source": [
    "history = model.fit(training_padded, \n",
    "         training_labels, \n",
    "         epochs = 30,\n",
    "         validation_data= (testing_padded, testing_labels),\n",
    "         verbose = 2)"
   ]
  },
  {
   "cell_type": "code",
   "execution_count": 88,
   "id": "0560f133",
   "metadata": {},
   "outputs": [
    {
     "data": {
      "image/png": "[encoded data removed]",
      "text/plain": [
       "<Figure size 432x288 with 1 Axes>"
      ]
     },
     "metadata": {
      "needs_background": "light"
     },
     "output_type": "display_data"
    },
    {
     "data": {
      "image/png": "[encoded data removed]",
      "text/plain": [
       "<Figure size 432x288 with 1 Axes>"
      ]
     },
     "metadata": {
      "needs_background": "light"
     },
     "output_type": "display_data"
    }
   ],
   "source": [
    "import matplotlib.pyplot as plt \n",
    "\n",
    "train_acc = history.history['acc']\n",
    "val_acc = history.history['val_acc']\n",
    "train_loss = history.history['loss']\n",
    "validation_loss = history.history['val_loss']\n",
    "\n",
    "epochs = range(len(train_acc))\n",
    "\n",
    "plt.plot(epochs, train_acc, label = \"Training Accuracy\")\n",
    "plt.plot(epochs, val_acc, label = \"validation Accuracy\")\n",
    "plt.title(\"plot of training and validation accuracy (epochs = 30)\")\n",
    "plt.figure()\n",
    "\n",
    "plt.plot(epochs, train_loss, label = \"Training loss\")\n",
    "plt.plot(epochs, validation_loss, label = \"validation loss\")\n",
    "plt.title(\"plot of training and validation loss (epochs = 30)\")\n",
    "plt.show()"
   ]
  },
  {
   "cell_type": "code",
   "execution_count": 89,
   "id": "4a54b5fa",
   "metadata": {},
   "outputs": [],
   "source": [
    "reverse_word_index = dict([(value, key) for (key,value) in word_index.items()])\n",
    "\n",
    "def decode_sentences(text):\n",
    "    return \" \".join([reverse_word_index.get(i, '?') for i in text])"
   ]
  },
  {
   "cell_type": "code",
   "execution_count": 90,
   "id": "34c833f4",
   "metadata": {},
   "outputs": [
    {
     "data": {
      "text/plain": [
       "\"former <OOV> store clerk sues over secret 'black <OOV> for minority shoppers ? ? ? ? ? ? ? ? ? ? ? ? ? ? ? ? ? ? ? ? ? ? ? ? ? ? ? ? ? ? ? ? ? ? ? ? ? ? ? ? ? ? ? ? ? ? ? ? ? ? ? ? ? ? ? ? ? ? ? ? ? ? ? ? ? ? ? ? ? ? ? ? ? ? ? ? ? ? ? ? ? ? ? ? ? ? ? ?\""
      ]
     },
     "execution_count": 90,
     "metadata": {},
     "output_type": "execute_result"
    }
   ],
   "source": [
    "decode_sentences(training_padded[0])"
   ]
  },
  {
   "cell_type": "code",
   "execution_count": 94,
   "id": "3e1424c3",
   "metadata": {},
   "outputs": [
    {
     "name": "stdout",
     "output_type": "stream",
     "text": [
      "former <OOV> store clerk sues over secret 'black <OOV> for minority shoppers ? ? ? ? ? ? ? ? ? ? ? ? ? ? ? ? ? ? ? ? ? ? ? ? ? ? ? ? ? ? ? ? ? ? ? ? ? ? ? ? ? ? ? ? ? ? ? ? ? ? ? ? ? ? ? ? ? ? ? ? ? ? ? ? ? ? ? ? ? ? ? ? ? ? ? ? ? ? ? ? ? ? ? ? ? ? ? ?\n",
      "mom starting to fear son's web series closest thing she will have to grandchild\n",
      "1\n"
     ]
    }
   ],
   "source": [
    "print(decode_sentences(training_padded[0]))\n",
    "print(training_sentences[2])\n",
    "print(labels[2])"
   ]
  },
  {
   "cell_type": "code",
   "execution_count": 95,
   "id": "f8a56eac",
   "metadata": {},
   "outputs": [
    {
     "name": "stdout",
     "output_type": "stream",
     "text": [
      "(10000, 16)\n"
     ]
    }
   ],
   "source": [
    "#now i'll get the embedding - \n",
    "e = model.layers[0]\n",
    "weights = e.get_weights()[0]\n",
    "print(weights.shape)"
   ]
  },
  {
   "cell_type": "code",
   "execution_count": 96,
   "id": "f8fc7f1c",
   "metadata": {},
   "outputs": [],
   "source": [
    "import io \n",
    "\n",
    "out_v = io.open('vecs1.tsv', 'w', encoding='utf-8')\n",
    "out_m = io.open('meta1.tsv', 'w', encoding='utf-8')\n",
    "for word_num in range(1, vocab_size):\n",
    "    word = reverse_word_index[word_num]\n",
    "    embeddings = weights[word_num]\n",
    "    out_m.write(word + \"\\n\")\n",
    "    out_v.write('\\t'.join([str(x) for x in embeddings]) + \"\\n\")\n",
    "out_v.close()\n",
    "out_m.close()"
   ]
  },
  {
   "cell_type": "markdown",
   "id": "4ff2a871",
   "metadata": {},
   "source": [
    "result - http://localhost:8888/view/Desktop/Screenshot%202021-10-19%20at%2010.23.37%20PM.png "
   ]
  },
  {
   "cell_type": "code",
   "execution_count": null,
   "id": "41ba64a0",
   "metadata": {},
   "outputs": [],
   "source": []
  }
 ],
 "metadata": {
  "kernelspec": {
   "display_name": "Python 3",
   "language": "python",
   "name": "python3"
  },
  "language_info": {
   "codemirror_mode": {
    "name": "ipython",
    "version": 3
   },
   "file_extension": ".py",
   "mimetype": "text/x-python",
   "name": "python",
   "nbconvert_exporter": "python",
   "pygments_lexer": "ipython3",
   "version": "3.8.8"
  }
 },
 "nbformat": 4,
 "nbformat_minor": 5
}
